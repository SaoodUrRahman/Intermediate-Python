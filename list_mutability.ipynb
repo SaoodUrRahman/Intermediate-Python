{
 "cells": [
  {
   "cell_type": "markdown",
   "metadata": {},
   "source": [
    "# List Mutability and Deep Copying"
   ]
  },
  {
   "cell_type": "code",
   "execution_count": 3,
   "metadata": {},
   "outputs": [
    {
     "name": "stdout",
     "output_type": "stream",
     "text": [
      "x = 34 y = 30\n"
     ]
    }
   ],
   "source": [
    "x = 34\n",
    "y = x\n",
    "y = 30\n",
    "print(\"x =\",x,\"y =\",y)"
   ]
  },
  {
   "cell_type": "code",
   "execution_count": 4,
   "metadata": {},
   "outputs": [],
   "source": [
    "mammals = ['cat', 'kangaroo', 'horse']\n",
    "fish = ['tuna', 'shark', 'catfish']"
   ]
  },
  {
   "cell_type": "code",
   "execution_count": 5,
   "metadata": {},
   "outputs": [
    {
     "name": "stdout",
     "output_type": "stream",
     "text": [
      "[['cat', 'kangaroo', 'horse'], ['tuna', 'shark', 'catfish']]\n"
     ]
    }
   ],
   "source": [
    "animals = [mammals, fish]\n",
    "print(animals)"
   ]
  },
  {
   "cell_type": "code",
   "execution_count": 6,
   "metadata": {},
   "outputs": [
    {
     "name": "stdout",
     "output_type": "stream",
     "text": [
      "mammals =  ['mule', 'kangaroo', 'horse']\n",
      "animals =  [['mule', 'kangaroo', 'horse'], ['tuna', 'shark', 'catfish']]\n"
     ]
    }
   ],
   "source": [
    "mammals[0] = 'mule'\n",
    "print(\"mammals = \", mammals)\n",
    "print(\"animals = \", animals)"
   ]
  },
  {
   "cell_type": "code",
   "execution_count": 8,
   "metadata": {},
   "outputs": [
    {
     "name": "stdout",
     "output_type": "stream",
     "text": [
      "mammals_2 =  ['dog', 'kangaroo', 'horse']\n",
      "mammals =  ['dog', 'kangaroo', 'horse']\n",
      "animals =  [['dog', 'kangaroo', 'horse'], ['tuna', 'shark', 'catfish']]\n"
     ]
    }
   ],
   "source": [
    "mammals_2 = mammals\n",
    "mammals_2[0] = 'dog'\n",
    "print(\"mammals_2 = \", mammals_2)\n",
    "print(\"mammals = \", mammals)\n",
    "print(\"animals = \", animals)"
   ]
  },
  {
   "cell_type": "code",
   "execution_count": 9,
   "metadata": {},
   "outputs": [],
   "source": [
    "mammals_3 = mammals[:] # this creates a copy!"
   ]
  },
  {
   "cell_type": "code",
   "execution_count": 10,
   "metadata": {},
   "outputs": [
    {
     "name": "stdout",
     "output_type": "stream",
     "text": [
      "mammals_3 =  ['mouse', 'kangaroo', 'horse']\n",
      "mammals =  ['dog', 'kangaroo', 'horse']\n",
      "animals =  [['dog', 'kangaroo', 'horse'], ['tuna', 'shark', 'catfish']]\n"
     ]
    }
   ],
   "source": [
    "mammals_3[0] = 'mouse'\n",
    "print(\"mammals_3 = \", mammals_3)\n",
    "print(\"mammals = \", mammals)\n",
    "print(\"animals = \", animals)"
   ]
  },
  {
   "cell_type": "code",
   "execution_count": 11,
   "metadata": {},
   "outputs": [],
   "source": [
    "s1 = ['student 1', 'James', 'Brown']\n",
    "s2 = ['student 2', 'Chris', 'Black']\n",
    "s3 = ['student 3', 'Phil', 'Blue']"
   ]
  },
  {
   "cell_type": "code",
   "execution_count": 12,
   "metadata": {},
   "outputs": [
    {
     "name": "stdout",
     "output_type": "stream",
     "text": [
      "[['student 1', 'James', 'Brown'], ['student 2', 'Chris', 'Black'], ['student 3', 'Phil', 'Blue']]\n"
     ]
    }
   ],
   "source": [
    "students = [s1, s2, s3]\n",
    "print(students)"
   ]
  },
  {
   "cell_type": "code",
   "execution_count": 13,
   "metadata": {},
   "outputs": [
    {
     "name": "stdout",
     "output_type": "stream",
     "text": [
      "[['student 1', 'James', 'Brown'], ['student 2', 'Chris', 'Black'], ['student 3', 'Phil', 'Blue']]\n"
     ]
    }
   ],
   "source": [
    "students_copy = students[:] #this will create a copy of students\n",
    "print(students_copy)"
   ]
  },
  {
   "cell_type": "code",
   "execution_count": 14,
   "metadata": {},
   "outputs": [
    {
     "name": "stdout",
     "output_type": "stream",
     "text": [
      "[['student 1 changed', 'James', 'Brown'], ['student 2', 'Chris', 'Black'], ['student 3', 'Phil', 'Blue']]\n",
      "[['student 1 changed', 'James', 'Brown'], ['student 2', 'Chris', 'Black'], ['student 3', 'Phil', 'Blue']]\n"
     ]
    }
   ],
   "source": [
    "students_copy[0][0] = 'student 1 changed'  \n",
    "print(students_copy)\n",
    "print(students)\n",
    "#As above when we create a copy of a list and if change anything in copy list ,the original list can't change \n",
    "#but in this case change the both list \n",
    "#because as the first list point to another lists\n",
    "#and as we create a spreate copy but the copy also point to that lists which first list point\n",
    "#this is called shallow copy\n"
   ]
  },
  {
   "cell_type": "markdown",
   "metadata": {},
   "source": [
    "# Deep Copying"
   ]
  },
  {
   "cell_type": "code",
   "execution_count": 15,
   "metadata": {},
   "outputs": [],
   "source": [
    "import copy"
   ]
  },
  {
   "cell_type": "code",
   "execution_count": 16,
   "metadata": {},
   "outputs": [],
   "source": [
    "students_3 = copy.deepcopy(students)"
   ]
  },
  {
   "cell_type": "code",
   "execution_count": 17,
   "metadata": {},
   "outputs": [
    {
     "name": "stdout",
     "output_type": "stream",
     "text": [
      "[['student 1 changed again ', 'James', 'Brown'], ['student 2', 'Chris', 'Black'], ['student 3', 'Phil', 'Blue']]\n",
      "----------\n",
      "[['student 1 changed', 'James', 'Brown'], ['student 2', 'Chris', 'Black'], ['student 3', 'Phil', 'Blue']]\n"
     ]
    }
   ],
   "source": [
    "students_3[0][0] = 'student 1 changed again '\n",
    "print(students_3)\n",
    "print('----------')\n",
    "print(students)"
   ]
  },
  {
   "cell_type": "markdown",
   "metadata": {},
   "source": [
    "# Passing lists as arguments"
   ]
  },
  {
   "cell_type": "code",
   "execution_count": 20,
   "metadata": {},
   "outputs": [],
   "source": [
    "def change_var(x):\n",
    "    x = x + 1\n",
    "def change_list(lst):\n",
    "    lst.append(24)"
   ]
  },
  {
   "cell_type": "code",
   "execution_count": 21,
   "metadata": {},
   "outputs": [
    {
     "name": "stdout",
     "output_type": "stream",
     "text": [
      "25\n"
     ]
    }
   ],
   "source": [
    "x = 25\n",
    "change_var(x)\n",
    "print(x) # our global x remains the same"
   ]
  },
  {
   "cell_type": "code",
   "execution_count": 22,
   "metadata": {},
   "outputs": [
    {
     "name": "stdout",
     "output_type": "stream",
     "text": [
      "['student 2', 'Chris', 'Black']\n",
      "['student 2', 'Chris', 'Black', 24]\n"
     ]
    }
   ],
   "source": [
    "print(s2)\n",
    "change_list(s2)\n",
    "print(s2) # but the list is affected!"
   ]
  },
  {
   "cell_type": "markdown",
   "metadata": {},
   "source": [
    "# Dictionaries case study using Deep copying"
   ]
  },
  {
   "cell_type": "code",
   "execution_count": 23,
   "metadata": {},
   "outputs": [],
   "source": [
    "dic1 = {\n",
    "    1:'one',\n",
    "    2:'two',\n",
    "    3:'tree'\n",
    "}\n"
   ]
  },
  {
   "cell_type": "code",
   "execution_count": 26,
   "metadata": {},
   "outputs": [],
   "source": [
    "dic2 = {\n",
    "    4:\"Four\",\n",
    "    5:\"five\"\n",
    "}\n",
    "dic3 = {\n",
    "    6:\"six\",\n",
    "    7:\"seven\"\n",
    "}"
   ]
  },
  {
   "cell_type": "code",
   "execution_count": 27,
   "metadata": {},
   "outputs": [],
   "source": [
    "lis1 = [dic1,dic2,dic3]"
   ]
  },
  {
   "cell_type": "code",
   "execution_count": 28,
   "metadata": {},
   "outputs": [],
   "source": [
    "l2 = lis1[:]"
   ]
  },
  {
   "cell_type": "code",
   "execution_count": 31,
   "metadata": {},
   "outputs": [],
   "source": [
    "dic1[1] = \"oneeeeeeeeeee\""
   ]
  },
  {
   "cell_type": "code",
   "execution_count": 33,
   "metadata": {},
   "outputs": [
    {
     "data": {
      "text/plain": [
       "{1: 'oneeeeeeeeeee', 2: 'two', 3: 'tree'}"
      ]
     },
     "execution_count": 33,
     "metadata": {},
     "output_type": "execute_result"
    }
   ],
   "source": [
    "lis1[0]"
   ]
  },
  {
   "cell_type": "code",
   "execution_count": 34,
   "metadata": {},
   "outputs": [
    {
     "data": {
      "text/plain": [
       "{1: 'oneeeeeeeeeee', 2: 'two', 3: 'tree'}"
      ]
     },
     "execution_count": 34,
     "metadata": {},
     "output_type": "execute_result"
    }
   ],
   "source": [
    "l2[0]"
   ]
  },
  {
   "cell_type": "code",
   "execution_count": 35,
   "metadata": {},
   "outputs": [],
   "source": [
    "l3 = copy.deepcopy(lis1)"
   ]
  },
  {
   "cell_type": "code",
   "execution_count": 45,
   "metadata": {},
   "outputs": [],
   "source": [
    "dic1[1] = \"Again change oneeeeeeeeeee\""
   ]
  },
  {
   "cell_type": "code",
   "execution_count": 46,
   "metadata": {},
   "outputs": [
    {
     "data": {
      "text/plain": [
       "[{1: 'oneeeeeeeeeee', 2: 'two', 3: 'tree'},\n",
       " {4: 'Four', 5: 'five'},\n",
       " {6: 'six', 7: 'seven'}]"
      ]
     },
     "execution_count": 46,
     "metadata": {},
     "output_type": "execute_result"
    }
   ],
   "source": [
    "l3"
   ]
  },
  {
   "cell_type": "code",
   "execution_count": null,
   "metadata": {},
   "outputs": [],
   "source": []
  }
 ],
 "metadata": {
  "kernelspec": {
   "display_name": "Python 3",
   "language": "python",
   "name": "python3"
  },
  "language_info": {
   "codemirror_mode": {
    "name": "ipython",
    "version": 3
   },
   "file_extension": ".py",
   "mimetype": "text/x-python",
   "name": "python",
   "nbconvert_exporter": "python",
   "pygments_lexer": "ipython3",
   "version": "3.7.3"
  }
 },
 "nbformat": 4,
 "nbformat_minor": 2
}
